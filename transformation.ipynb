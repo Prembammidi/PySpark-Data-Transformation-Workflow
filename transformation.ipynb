{
 "cells": [
  {
   "cell_type": "code",
   "execution_count": 0,
   "metadata": {
    "application/vnd.databricks.v1+cell": {
     "cellMetadata": {
      "byteLimit": 2048000,
      "rowLimit": 10000
     },
     "inputWidgets": {},
     "nuid": "9e127510-395c-4d5f-996d-ae149fd1bc2d",
     "showTitle": false,
     "tableResultSettingsMap": {},
     "title": ""
    }
   },
   "outputs": [],
   "source": [
    "from pyspark.sql.functions import col, to_date, concat_ws, lead\n",
    "from pyspark.sql.window import Window\n",
    "\n",
    "class firsttransformer(transformer):\n",
    "    def transform(self, inputdf):\n",
    "        \"\"\"\n",
    "        Transforming the input data by adding a Date column and computing the Next_Product.\n",
    "        \"\"\"\n",
    "        transactioninputPdf = inputdf.get(\"transactioninputPdf\")\n",
    "        print(\"transactioninputPdf in transform\")\n",
    "        transactioninputPdf.show()\n",
    "\n",
    "        # Step 1: Combine Year, Month, and Day into a Date column\n",
    "        date_df = (\n",
    "            transactioninputPdf\n",
    "            .withColumn(\n",
    "                \"Date\",\n",
    "                to_date(\n",
    "                    concat_ws(\"-\", col(\"Year\"), col(\"Month\"), col(\"Day\")),\n",
    "                    \"yyyy-MM-dd\"\n",
    "                )\n",
    "            )\n",
    "            .drop(\"Day\", \"Month\", \"Year\")  # Drop the original columns to avoid confusion\n",
    "        )\n",
    "\n",
    "        # Step 2: Create a Window specification and compute the Next_Product\n",
    "        window_spec = Window.partitionBy(\"Model_ID\").orderBy(\"Date\")\n",
    "\n",
    "        transformed_df = date_df.withColumn(\n",
    "            \"Next_Product\", \n",
    "            lead(\"BranchName\").over(window_spec)\n",
    "        )\n",
    "\n",
    "        print(\"Transformed DataFrame:\")\n",
    "        transformed_df.show()\n",
    "\n",
    "        # Return the final transformed DataFrame\n",
    "        return transformed_df\n"
   ]
  },
  {
   "cell_type": "code",
   "execution_count": 0,
   "metadata": {
    "application/vnd.databricks.v1+cell": {
     "cellMetadata": {
      "byteLimit": 2048000,
      "rowLimit": 10000
     },
     "inputWidgets": {},
     "nuid": "c0ba9d11-b416-4e6e-8378-70ad6bf553cd",
     "showTitle": false,
     "tableResultSettingsMap": {},
     "title": ""
    }
   },
   "outputs": [],
   "source": []
  }
 ],
 "metadata": {
  "application/vnd.databricks.v1+notebook": {
   "computePreferences": null,
   "dashboards": [],
   "environmentMetadata": {
    "base_environment": "",
    "client": "1"
   },
   "language": "python",
   "notebookMetadata": {
    "pythonIndentUnit": 4
   },
   "notebookName": "transformation",
   "widgets": {}
  }
 },
 "nbformat": 4,
 "nbformat_minor": 0
}
