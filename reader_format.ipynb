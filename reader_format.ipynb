{
 "cells": [
  {
   "cell_type": "code",
   "execution_count": 0,
   "metadata": {
    "application/vnd.databricks.v1+cell": {
     "cellMetadata": {
      "byteLimit": 2048000,
      "rowLimit": 10000
     },
     "inputWidgets": {},
     "nuid": "53b8dfe4-b2c7-4559-b144-8cd3760c1e48",
     "showTitle": false,
     "tableResultSettingsMap": {},
     "title": ""
    }
   },
   "outputs": [],
   "source": [
    "class DataSource:\n",
    "    def __init__(self, path):\n",
    "        self.path = path\n",
    "    def getDataFrame(self):\n",
    "        raise ValueError(\"Not Implemented\")\n",
    "\n",
    "class csvDataSource(DataSource):\n",
    "    def getDataFrame(self):\n",
    "        return(\n",
    "            spark.read.format(\"csv\").option(\"header\",\"true\").load(self.path)\n",
    "        )\n",
    "\n",
    "class ParquetDataSource(DataSource):\n",
    "    def getDataFrame(self):\n",
    "        return(\n",
    "            spark.read.foramt(\"parquet\").option(\"header\",\"true\").load(self.path)\n",
    "        )\n",
    "\n",
    "def getDataSource(data_type, file_path):\n",
    "    if data_type == \"csv\":\n",
    "        return csvDataSource(file_path)\n",
    "    elif data_type == \"parquet\":\n",
    "        return ParquetDataSource(file_path)\n",
    "    else:\n",
    "        raise ValueError(f\"Not implemented {data_type}\")\n",
    "    \n"
   ]
  },
  {
   "cell_type": "code",
   "execution_count": 0,
   "metadata": {
    "application/vnd.databricks.v1+cell": {
     "cellMetadata": {
      "byteLimit": 2048000,
      "rowLimit": 10000
     },
     "inputWidgets": {},
     "nuid": "e0c102e4-6062-4dfd-bf08-c8f7f30e10fd",
     "showTitle": false,
     "tableResultSettingsMap": {},
     "title": ""
    }
   },
   "outputs": [],
   "source": []
  }
 ],
 "metadata": {
  "application/vnd.databricks.v1+notebook": {
   "computePreferences": null,
   "dashboards": [],
   "environmentMetadata": {
    "base_environment": "",
    "client": "1"
   },
   "language": "python",
   "notebookMetadata": {
    "pythonIndentUnit": 4
   },
   "notebookName": "reader_format",
   "widgets": {}
  }
 },
 "nbformat": 4,
 "nbformat_minor": 0
}
