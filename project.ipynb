{
 "cells": [
  {
   "cell_type": "code",
   "execution_count": 0,
   "metadata": {
    "application/vnd.databricks.v1+cell": {
     "cellMetadata": {
      "byteLimit": 2048000,
      "rowLimit": 10000
     },
     "inputWidgets": {},
     "nuid": "5b2f4959-97cb-46c4-bc4f-5f81c425a2f9",
     "showTitle": false,
     "tableResultSettingsMap": {},
     "title": ""
    }
   },
   "outputs": [],
   "source": [
    "%run \"./reader_format\""
   ]
  },
  {
   "cell_type": "code",
   "execution_count": 0,
   "metadata": {
    "application/vnd.databricks.v1+cell": {
     "cellMetadata": {
      "byteLimit": 2048000,
      "rowLimit": 10000
     },
     "inputWidgets": {},
     "nuid": "4950d1ad-6c2c-47b1-86f3-51e9b828cd28",
     "showTitle": false,
     "tableResultSettingsMap": {},
     "title": ""
    }
   },
   "outputs": [],
   "source": [
    "%run \"./transformation\""
   ]
  },
  {
   "cell_type": "code",
   "execution_count": 0,
   "metadata": {
    "application/vnd.databricks.v1+cell": {
     "cellMetadata": {
      "byteLimit": 2048000,
      "rowLimit": 10000
     },
     "inputWidgets": {},
     "nuid": "88a829ff-e033-47ea-88ef-48ef07fba9ca",
     "showTitle": false,
     "tableResultSettingsMap": {},
     "title": ""
    }
   },
   "outputs": [
    {
     "output_type": "stream",
     "name": "stdout",
     "output_type": "stream",
     "text": [
      "+---------+---------+--------+--------+----------+-------+---+-----+----+--------------------+--------------------+-------------+\n|Branch_ID|Dealer_ID|Model_ID| Revenue|Units_Sold|Date_ID|Day|Month|Year|          BranchName|          DealerName| Product_Name|\n+---------+---------+--------+--------+----------+-------+---+-----+----+--------------------+--------------------+-------------+\n|   BR0001|  DLR0001|  BMW-M1|13363978|         2|DT00001|  1|    1|2017|      AC Cars Motors|      AC Cars Motors|          BMW|\n|   BR0003|  DLR0228|Hon-M218|17376468|         3|DT00001| 10|    5|2017|      AC Cars Motors|       Deccan Motors|        Honda|\n|   BR0004|  DLR0208|Tat-M188| 9664767|         3|DT00002| 12|    1|2017|      AC Cars Motors|     Wiesmann Motors|         Tata|\n|   BR0005|  DLR0188|Hyu-M158| 5525304|         3|DT00002| 16|    9|2017|      AC Cars Motors|       Subaru Motors|      Hyundai|\n|   BR0006|  DLR0168|Ren-M128|12971088|         3|DT00003| 20|    5|2017|      AC Cars Motors|         Saab Motors|      Renault|\n|   BR0008|  DLR0128| Hon-M68| 7321228|         1|DT00004| 28|    4|2017|      AC Cars Motors|Messerschmitt Motors|        Honda|\n|   BR0009|  DLR0108| Cad-M38|11379294|         2|DT00004| 31|   12|2017|      AC Cars Motors|        Lexus Motors|     Cadillac|\n|   BR0010|  DLR0088|  Mer-M8|11611234|         2|DT00005|  4|    9|2017|      AC Cars Motors|IFA (including Tr...|Mercedes-Benz|\n|   BR0011|  DLR0002|  BMW-M2|19979446|         2|DT00005|  2|    1|2017|        Acura Motors|        Acura Motors|          BMW|\n|   BR0011|  DLR0069|Vol-M256|14181510|         3|DT00006|  9|    5|2017|        Acura Motors|          Geo Motors|   Volkswagen|\n|   BR0012|  DLR0249|BMW-M249| 5358057|         1|DT00006|  6|    9|2017|        Acura Motors|        Acura Motors|          BMW|\n|   BR0013|  DLR0229|Hon-M219|16150431|         3|DT00007| 11|    5|2017|        Acura Motors|       Herald Motors|        Honda|\n|   BR0014|  DLR0209|Tat-M189|13389350|         2|DT00007| 13|    1|2017|        Acura Motors|      Zastava Motors|         Tata|\n|   BR0015|  DLR0189|Hyu-M159| 4891618|         2|DT00008| 17|    9|2017|        Acura Motors|      Sunbeam Motors|      Hyundai|\n|   BR0017|  DLR0149| Lex-M99| 5059144|         2|DT00008| 25|    8|2017|        Acura Motors|        Panoz Motors|        Lexus|\n|   BR0018|  DLR0129| Hon-M69|17369466|         2|DT00009| 29|    4|2017|        Acura Motors|          Mia Motors|        Honda|\n|   BR0019|  DLR0109| Cad-M39|26969532|         3|DT00010|  1|    1|2017|        Acura Motors|       Ligier Motors|     Cadillac|\n|   BR0020|  DLR0089|  Dod-M9| 4816794|         2|DT00011|  5|    9|2017|        Acura Motors|     Infiniti Motors|        Dodge|\n|   BR0021|  DLR0070|Vol-M257| 7738896|         1|DT00011| 10|    5|2017|Aixam-Mega (inclu...|      Gilbern Motors|   Volkswagen|\n|   BR0024|  DLR0210|Tat-M190|11038722|         3|DT00012| 14|    1|2017|Aixam-Mega (inclu...|          ZAZ Motors|         Tata|\n+---------+---------+--------+--------+----------+-------+---+-----+----+--------------------+--------------------+-------------+\nonly showing top 20 rows\n\ntransactioninputPdf in transform\n+---------+---------+--------+--------+----------+-------+---+-----+----+--------------------+--------------------+-------------+\n|Branch_ID|Dealer_ID|Model_ID| Revenue|Units_Sold|Date_ID|Day|Month|Year|          BranchName|          DealerName| Product_Name|\n+---------+---------+--------+--------+----------+-------+---+-----+----+--------------------+--------------------+-------------+\n|   BR0001|  DLR0001|  BMW-M1|13363978|         2|DT00001|  1|    1|2017|      AC Cars Motors|      AC Cars Motors|          BMW|\n|   BR0003|  DLR0228|Hon-M218|17376468|         3|DT00001| 10|    5|2017|      AC Cars Motors|       Deccan Motors|        Honda|\n|   BR0004|  DLR0208|Tat-M188| 9664767|         3|DT00002| 12|    1|2017|      AC Cars Motors|     Wiesmann Motors|         Tata|\n|   BR0005|  DLR0188|Hyu-M158| 5525304|         3|DT00002| 16|    9|2017|      AC Cars Motors|       Subaru Motors|      Hyundai|\n|   BR0006|  DLR0168|Ren-M128|12971088|         3|DT00003| 20|    5|2017|      AC Cars Motors|         Saab Motors|      Renault|\n|   BR0008|  DLR0128| Hon-M68| 7321228|         1|DT00004| 28|    4|2017|      AC Cars Motors|Messerschmitt Motors|        Honda|\n|   BR0009|  DLR0108| Cad-M38|11379294|         2|DT00004| 31|   12|2017|      AC Cars Motors|        Lexus Motors|     Cadillac|\n|   BR0010|  DLR0088|  Mer-M8|11611234|         2|DT00005|  4|    9|2017|      AC Cars Motors|IFA (including Tr...|Mercedes-Benz|\n|   BR0011|  DLR0002|  BMW-M2|19979446|         2|DT00005|  2|    1|2017|        Acura Motors|        Acura Motors|          BMW|\n|   BR0011|  DLR0069|Vol-M256|14181510|         3|DT00006|  9|    5|2017|        Acura Motors|          Geo Motors|   Volkswagen|\n|   BR0012|  DLR0249|BMW-M249| 5358057|         1|DT00006|  6|    9|2017|        Acura Motors|        Acura Motors|          BMW|\n|   BR0013|  DLR0229|Hon-M219|16150431|         3|DT00007| 11|    5|2017|        Acura Motors|       Herald Motors|        Honda|\n|   BR0014|  DLR0209|Tat-M189|13389350|         2|DT00007| 13|    1|2017|        Acura Motors|      Zastava Motors|         Tata|\n|   BR0015|  DLR0189|Hyu-M159| 4891618|         2|DT00008| 17|    9|2017|        Acura Motors|      Sunbeam Motors|      Hyundai|\n|   BR0017|  DLR0149| Lex-M99| 5059144|         2|DT00008| 25|    8|2017|        Acura Motors|        Panoz Motors|        Lexus|\n|   BR0018|  DLR0129| Hon-M69|17369466|         2|DT00009| 29|    4|2017|        Acura Motors|          Mia Motors|        Honda|\n|   BR0019|  DLR0109| Cad-M39|26969532|         3|DT00010|  1|    1|2017|        Acura Motors|       Ligier Motors|     Cadillac|\n|   BR0020|  DLR0089|  Dod-M9| 4816794|         2|DT00011|  5|    9|2017|        Acura Motors|     Infiniti Motors|        Dodge|\n|   BR0021|  DLR0070|Vol-M257| 7738896|         1|DT00011| 10|    5|2017|Aixam-Mega (inclu...|      Gilbern Motors|   Volkswagen|\n|   BR0024|  DLR0210|Tat-M190|11038722|         3|DT00012| 14|    1|2017|Aixam-Mega (inclu...|          ZAZ Motors|         Tata|\n+---------+---------+--------+--------+----------+-------+---+-----+----+--------------------+--------------------+-------------+\nonly showing top 20 rows\n\nTransformed DataFrame:\n+---------+---------+--------+--------+----------+-------+--------------------+--------------------+------------+----------+--------------------+\n|Branch_ID|Dealer_ID|Model_ID| Revenue|Units_Sold|Date_ID|          BranchName|          DealerName|Product_Name|      Date|        Next_Product|\n+---------+---------+--------+--------+----------+-------+--------------------+--------------------+------------+----------+--------------------+\n|   BR0219|  DLR0129| Acu-M59| 9612233|         1|DT00111|Borgward (includi...|          Mia Motors|       Acura|2017-01-21|   Fiat India Motors|\n|   BR0581|  DLR0059| Acu-M59|27157551|         3|DT00275|   Fiat India Motors|   Fiat India Motors|       Acura|2017-02-28|  e.GO Mobile Motors|\n|   BR0520|  DLR0139| Acu-M59| 8089428|         3|DT00252|  e.GO Mobile Motors|       Nissan Motors|       Acura|2017-10-25|      Zastava Motors|\n|  BR12486|  DLR0109| Acu-M59|12894642|         3|DT00601|      Zastava Motors|       Ligier Motors|       Acura|2018-07-16|     Maserati Motors|\n|   BR1183|  DLR0079| Acu-M59|  860789|         1|DT00569|     Maserati Motors|      Hillman Motors|       Acura|2018-09-05|        Simca Motors|\n|   BR1785|  DLR0099| Acu-M59| 8656704|         3|DT00855|        Simca Motors|       Jensen Motors|       Acura|2019-03-12|                null|\n|   BR0229|  DLR0130| Acu-M60|27840693|         3|DT00118|      Bristol Motors|        Micro Motors|       Acura|2017-01-22|Fisker, Karma Motors|\n|   BR0591|  DLR0060| Acu-M60| 7166549|         1|DT00280|Fisker, Karma Motors|Fisker, Karma Motors|       Acura|2017-03-01|    Mastretta Motors|\n|   BR1193|  DLR0080| Acu-M60|23134212|         3|DT00573|    Mastretta Motors|    Hindustan Motors|       Acura|2018-09-06|    Innocenti Motors|\n|   BR0892|  DLR0070| Acu-M60| 1993691|         1|DT00422|    Innocenti Motors|      Gilbern Motors|       Acura|2018-12-03|Simca do Brasil M...|\n|   BR1795|  DLR0100| Acu-M60| 3338625|         3|DT00860|Simca do Brasil M...|          JPX Motors|       Acura|2019-03-13|                null|\n|   BR0239|  DLR0131| Acu-M61| 7440984|         1|DT00123|British Leyland M...|         Mini Motors|       Acura|2017-01-23| Ford America Motors|\n|   BR0601|  DLR0061| Acu-M61|  827032|         2|DT00283| Ford America Motors| Ford America Motors|       Acura|2017-03-02|         Peel Motors|\n|   BR1504|  DLR0091| Acu-M61|  513083|         1|DT00718|         Peel Motors|      Invicta Motors|       Acura|2018-06-11|          ZIL Motors|\n|  BR12606|  DLR0111| Acu-M61| 3510889|         1|DT00605|          ZIL Motors|        Lotus Motors|       Acura|2018-07-18|Matra (including ...|\n|   BR1203|  DLR0081| Acu-M61| 4954303|         1|DT00579|Matra (including ...|       Holden Motors|       Acura|2018-09-07|      Invicta Motors|\n|   BR0902|  DLR0071| Acu-M61|23481786|         3|DT00428|      Invicta Motors|      Ginetta Motors|       Acura|2018-12-04|       Singer Motors|\n|   BR1805|  DLR0101| Acu-M61| 6868940|         1|DT00865|       Singer Motors|          Kia Motors|       Acura|2019-03-14|Colman Automotive...|\n|   BR2407|  DLR0121| Acu-M61| 9777657|         1|DT01160|Colman Automotive...|Matra (including ...|       Acura|2020-04-21|                null|\n|   BR0249|  DLR0132| Acu-M62| 6718044|         3|DT00126|Austin-Healey Motors|   Mitsubishi Motors|       Acura|2017-01-24|Ford Australia Mo...|\n+---------+---------+--------+--------+----------+-------+--------------------+--------------------+------------+----------+--------------------+\nonly showing top 20 rows\n\n+---------+---------+--------+--------+----------+-------+--------------------+--------------------+------------+----------+--------------------+\n|Branch_ID|Dealer_ID|Model_ID| Revenue|Units_Sold|Date_ID|          BranchName|          DealerName|Product_Name|      Date|        Next_Product|\n+---------+---------+--------+--------+----------+-------+--------------------+--------------------+------------+----------+--------------------+\n|   BR0219|  DLR0129| Acu-M59| 9612233|         1|DT00111|Borgward (includi...|          Mia Motors|       Acura|2017-01-21|   Fiat India Motors|\n|   BR0581|  DLR0059| Acu-M59|27157551|         3|DT00275|   Fiat India Motors|   Fiat India Motors|       Acura|2017-02-28|  e.GO Mobile Motors|\n|   BR0520|  DLR0139| Acu-M59| 8089428|         3|DT00252|  e.GO Mobile Motors|       Nissan Motors|       Acura|2017-10-25|      Zastava Motors|\n|  BR12486|  DLR0109| Acu-M59|12894642|         3|DT00601|      Zastava Motors|       Ligier Motors|       Acura|2018-07-16|     Maserati Motors|\n|   BR1183|  DLR0079| Acu-M59|  860789|         1|DT00569|     Maserati Motors|      Hillman Motors|       Acura|2018-09-05|        Simca Motors|\n|   BR1785|  DLR0099| Acu-M59| 8656704|         3|DT00855|        Simca Motors|       Jensen Motors|       Acura|2019-03-12|                null|\n|   BR0229|  DLR0130| Acu-M60|27840693|         3|DT00118|      Bristol Motors|        Micro Motors|       Acura|2017-01-22|Fisker, Karma Motors|\n|   BR0591|  DLR0060| Acu-M60| 7166549|         1|DT00280|Fisker, Karma Motors|Fisker, Karma Motors|       Acura|2017-03-01|    Mastretta Motors|\n|   BR1193|  DLR0080| Acu-M60|23134212|         3|DT00573|    Mastretta Motors|    Hindustan Motors|       Acura|2018-09-06|    Innocenti Motors|\n|   BR0892|  DLR0070| Acu-M60| 1993691|         1|DT00422|    Innocenti Motors|      Gilbern Motors|       Acura|2018-12-03|Simca do Brasil M...|\n|   BR1795|  DLR0100| Acu-M60| 3338625|         3|DT00860|Simca do Brasil M...|          JPX Motors|       Acura|2019-03-13|                null|\n|   BR0239|  DLR0131| Acu-M61| 7440984|         1|DT00123|British Leyland M...|         Mini Motors|       Acura|2017-01-23| Ford America Motors|\n|   BR0601|  DLR0061| Acu-M61|  827032|         2|DT00283| Ford America Motors| Ford America Motors|       Acura|2017-03-02|         Peel Motors|\n|   BR1504|  DLR0091| Acu-M61|  513083|         1|DT00718|         Peel Motors|      Invicta Motors|       Acura|2018-06-11|          ZIL Motors|\n|  BR12606|  DLR0111| Acu-M61| 3510889|         1|DT00605|          ZIL Motors|        Lotus Motors|       Acura|2018-07-18|Matra (including ...|\n|   BR1203|  DLR0081| Acu-M61| 4954303|         1|DT00579|Matra (including ...|       Holden Motors|       Acura|2018-09-07|      Invicta Motors|\n|   BR0902|  DLR0071| Acu-M61|23481786|         3|DT00428|      Invicta Motors|      Ginetta Motors|       Acura|2018-12-04|       Singer Motors|\n|   BR1805|  DLR0101| Acu-M61| 6868940|         1|DT00865|       Singer Motors|          Kia Motors|       Acura|2019-03-14|Colman Automotive...|\n|   BR2407|  DLR0121| Acu-M61| 9777657|         1|DT01160|Colman Automotive...|Matra (including ...|       Acura|2020-04-21|                null|\n|   BR0249|  DLR0132| Acu-M62| 6718044|         3|DT00126|Austin-Healey Motors|   Mitsubishi Motors|       Acura|2017-01-24|Ford Australia Mo...|\n+---------+---------+--------+--------+----------+-------+--------------------+--------------------+------------+----------+--------------------+\nonly showing top 20 rows\n\n+---------+---------+--------+--------+----------+-------+--------------------+--------------------+-------------+----------+--------------------+\n|Branch_ID|Dealer_ID|Model_ID| Revenue|Units_Sold|Date_ID|          BranchName|          DealerName| Product_Name|      Date|        Next_Product|\n+---------+---------+--------+--------+----------+-------+--------------------+--------------------+-------------+----------+--------------------+\n|   BR1665|  DLR0087| Che-M47| 7622398|         1|DT00794|  Rolls-Royce Motors|      Hyundai Motors|    Chevrolet|      null|       DeSoto Motors|\n|   BR0001|  DLR0001|  BMW-M1|13363978|         2|DT00001|      AC Cars Motors|      AC Cars Motors|          BMW|2017-01-01|     Caterham Motors|\n|   BR0019|  DLR0109| Cad-M39|26969532|         3|DT00010|        Acura Motors|       Ligier Motors|     Cadillac|2017-01-01|        Dacia Motors|\n|   BR0726|  DLR0180|Mar-M140|13271070|         2|DT00342| Aston Martin Motors|Simca do Brasil M...|Maruti Suzuki|2017-01-01|          GMC Motors|\n|   BR0011|  DLR0002|  BMW-M2|19979446|         2|DT00005|        Acura Motors|        Acura Motors|          BMW|2017-01-02|Ford Australia Mo...|\n|   BR0029|  DLR0110| Che-M40| 6158643|         1|DT00016|Aixam-Mega (inclu...|      Lincoln Motors|    Chevrolet|2017-01-02|Daewoo, Saehan, C...|\n|   BR0031|  DLR0004|  BMW-M4|18118773|         3|DT00017|   Alfa Romeo Motors|   Alfa Romeo Motors|          BMW|2017-01-04|  Ford Europe Motors|\n|   BR0049|  DLR0112| Che-M42|28080780|         3|DT00028|       Alpine Motors|          LTI Motors|    Chevrolet|2017-01-04|     Daihatsu Motors|\n|   BR0041|  DLR0005|  BMW-M5|12322500|         3|DT00023|       Alpine Motors|       Alpine Motors|          BMW|2017-01-05|   Ford India Motors|\n|   BR0059|  DLR0113| Che-M43|29476512|         3|DT00034|        Alvis Motors|         LuAZ Motors|    Chevrolet|2017-01-05|Chrysler Europe M...|\n|   BR0069|  DLR0114| Che-M44| 6723250|         1|DT00040|   AMC, Eagle Motors|         Lynx Motors|    Chevrolet|2017-01-06|    GTA Spano Motors|\n|   BR0051|  DLR0006|  Mer-M6| 1196976|         1|DT00030|        Alvis Motors|        Alvis Motors|Mercedes-Benz|2017-01-06| Freightliner Motors|\n|   BR0061|  DLR0007|  Mer-M7|28254609|         3|DT00035|   AMC, Eagle Motors|   AMC, Eagle Motors|Mercedes-Benz|2017-01-07|          FSO Motors|\n|   BR0089|  DLR0116| Che-M46|25901943|         3|DT00052|        Ariel Motors|       Marcos Motors|    Chevrolet|2017-01-08|     DeLorean Motors|\n|   BR0071|  DLR0008|  Mer-M8| 6083151|         1|DT00042|       Anadol Motors|       Anadol Motors|Mercedes-Benz|2017-01-08|          GAZ Motors|\n|   BR0081|  DLR0009|  Dod-M9|24665256|         3|DT00048|        Ariel Motors|        Ariel Motors|        Dodge|2017-01-09|        Acura Motors|\n|   BR0119|  DLR0119| Che-M49|21885834|         3|DT00063|  Asia Motors Motors|     Maserati Motors|    Chevrolet|2017-01-11|        Dodge Motors|\n|   BR0101|  DLR0011| Jee-M11| 8534145|         3|DT00056|       Artega Motors|       Artega Motors|         Jeep|2017-01-11|      Ginetta Motors|\n|   BR0129|  DLR0120| Che-M50|15086781|         3|DT00069| Aston Martin Motors|    Mastretta Motors|    Chevrolet|2017-01-12|  Donkervoort Motors|\n|   BR0111|  DLR0012| Jee-M12|24760575|         3|DT00060|  Asia Motors Motors|  Asia Motors Motors|         Jeep|2017-01-12|         Glas Motors|\n+---------+---------+--------+--------+----------+-------+--------------------+--------------------+-------------+----------+--------------------+\nonly showing top 20 rows\n\n"
     ]
    }
   ],
   "source": [
    "spark.conf.set(\"spark.sql.legacy.timeParserPolicy\", \"LEGACY\")\n",
    "\n",
    "\n",
    "\n",
    "\n",
    "\n",
    "class workflow:\n",
    "    def __init__(self):\n",
    "        pass\n",
    "\n",
    "    def runner(self):\n",
    "        # Step 1: Load the input DataFrame\n",
    "        transactioninputPdf = getDataSource(\n",
    "            data_type=\"csv\",\n",
    "            file_path=\"dbfs:/FileStore/tables/SalesData.csv\"\n",
    "        ).getDataFrame()\n",
    "        transactioninputPdf.show()\n",
    "\n",
    "        # Step 2: Prepare input dictionary\n",
    "        inputdf = {\n",
    "            \"transactioninputPdf\": transactioninputPdf\n",
    "        }\n",
    "\n",
    "        # Step 3: Apply the first transformation\n",
    "        firsttransform = firsttransformer().transform(inputdf)\n",
    "\n",
    "        # Step 4: Show results of the transformed DataFrame\n",
    "        firsttransform.show()\n",
    "        firsttransform.orderBy(\"Date\").show()\n",
    "\n",
    "\n",
    "# Run the workflow\n",
    "workflow().runner()\n",
    "\n"
   ]
  },
  {
   "cell_type": "code",
   "execution_count": 0,
   "metadata": {
    "application/vnd.databricks.v1+cell": {
     "cellMetadata": {
      "byteLimit": 2048000,
      "rowLimit": 10000
     },
     "inputWidgets": {},
     "nuid": "07596c9e-c18c-4e28-b449-bcd0fa5bb048",
     "showTitle": false,
     "tableResultSettingsMap": {},
     "title": ""
    }
   },
   "outputs": [
    {
     "output_type": "display_data",
     "data": {
      "text/plain": [
       ""
      ]
     },
     "metadata": {
      "application/vnd.databricks.v1+output": {
       "arguments": {},
       "data": "",
       "errorSummary": "Command skipped",
       "errorTraceType": "ansi",
       "metadata": {},
       "type": "ipynbError"
      }
     },
     "output_type": "display_data"
    }
   ],
   "source": [
    "df = spark.read.format(\"csv\").option(\"header\",\"True\").load('dbfs:/FileStore/tables/SalesData.csv')\n",
    "df.display()"
   ]
  },
  {
   "cell_type": "code",
   "execution_count": 0,
   "metadata": {
    "application/vnd.databricks.v1+cell": {
     "cellMetadata": {
      "byteLimit": 2048000,
      "rowLimit": 10000
     },
     "inputWidgets": {},
     "nuid": "2ffe0cc5-70f2-43ab-948c-d03c067e79f9",
     "showTitle": false,
     "tableResultSettingsMap": {},
     "title": ""
    }
   },
   "outputs": [],
   "source": []
  }
 ],
 "metadata": {
  "application/vnd.databricks.v1+notebook": {
   "computePreferences": null,
   "dashboards": [],
   "environmentMetadata": {
    "base_environment": "",
    "client": "1"
   },
   "language": "python",
   "notebookMetadata": {
    "pythonIndentUnit": 4
   },
   "notebookName": "project",
   "widgets": {}
  }
 },
 "nbformat": 4,
 "nbformat_minor": 0
}
